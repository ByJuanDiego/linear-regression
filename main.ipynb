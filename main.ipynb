{
 "cells": [
  {
   "cell_type": "markdown",
   "id": "5726eb6a",
   "metadata": {},
   "source": [
    "# Proyecto Introductorio: Regresion Lineal\n",
    "\n",
    "1. Cual es tu dataset?\n",
    "    Nuestro dataset fue extraido de kaggle.com. El nombre del dataset es **Most Streamed Spotify Songs 2023**, y tiene como alcance principal proporcionar informacion sobre la plataforma que permitan encontrar insights entre los usuarios y el exito que llegan a alcanzar algunas canciones. El conjunto de atributos disponibles en el dataset son referentes al nombre de la cancion, el\\los cantantes, fecha de lanzamiento, cantidad de reproducciones, cantidad de usuarios que han incluido la cancion en su playlist, entre otros.\n",
    "    Link del dataset: https://www.kaggle.com/datasets/nelgiriyewithana/top-spotify-songs-2023\n",
    "2. Cual es el problema de regresion que estas resolviendo?\n",
    "    Queremos determinar si existe una relacion fuerte entre la cantidad de reproducciones de una cancion con la cantidad de usuarios que pusieron dicha cancion en su playlist, con la intencion de predecir la cantidad de usuarios que pondran una cancion en su playlist dado un numero de reproducciones. Nuestra hipotesis preliminar sugiere que mientras mas reproducciones tenga una cancion de en Spotify, mas personas decidan agregar dicha cancion en su playlist. Creemos que nuestra hipotesis tiene sentido logico puesto que generalmente los usuarios deciden poner una cancion en su playlist posterior a haberla escuchado (y que les haya agradado). Por lo tanto, si mas personas escuchan la cancion, creemos que hay chance de que le guste a mas personas y la agreguen a su playlist. \n",
    "3. Cuantos puntos tiene tu dataset?\n",
    "    Para este laboratorio vamos a trabajar con un subconjunto del dataset original, puesto que estamos reduciendo el scope de nuestro estudio a canciones actuales. Vamos a trabajar en el rango de canciones del 2021 al 2022. Esta reduccion nos deja con 521 puntos para analizar.\n",
    "4. Cual es el $ \\betha $ asumiendo que la recta pasa por el origen\n",
    "    $ \\betha = 0.7371 $\n",
    "5. Cual es el numero de variables independientes?\n",
    "    Estamos usando 1 variable independiente.\n",
    "6. Cual es la variable dependiente?\n",
    "    Nuestra variable dependiente es la cantidad de playlists donde una cancion esta incluida\n",
    "7. Cuales son las unidades de medida de cada una de las variables:\n",
    "    La variable independiente, que es la cantidad de reproducciones de una cancion de Spotify, se mide en cientos de miles de reproducciones. Mientras que la variable dependiente, que es la cantidad de playlists donde la cancion esta incluida, se mide solamente en cantidad de playlists.\n",
    "\n",
    "A continuacion el codigo necesario para las siguientes preguntas:"
   ]
  },
  {
   "cell_type": "code",
   "execution_count": 76,
   "id": "initial_id",
   "metadata": {
    "ExecuteTime": {
     "end_time": "2023-08-31T05:08:53.209847647Z",
     "start_time": "2023-08-31T05:08:52.944381368Z"
    },
    "collapsed": true
   },
   "outputs": [],
   "source": [
    "import matplotlib.pyplot as plt\n",
    "import pandas as pd\n",
    "import numpy as np\n",
    "import random\n",
    "import copy"
   ]
  },
  {
   "cell_type": "markdown",
   "id": "5eb74cad",
   "metadata": {},
   "source": []
  },
  {
   "cell_type": "code",
   "execution_count": 50,
   "id": "b5dbc7ee1987a221",
   "metadata": {
    "ExecuteTime": {
     "end_time": "2023-08-31T05:08:53.210858477Z",
     "start_time": "2023-08-31T05:08:52.987380688Z"
    },
    "collapsed": false
   },
   "outputs": [],
   "source": [
    "class DataSet:\n",
    "    x_var: str = None\n",
    "    y_var: str = None\n",
    "    x: np.array = None\n",
    "    y: np.array = None\n",
    "\n",
    "    def __init__(self, filename: str, x_variable_name: str, y_variable_name: str):\n",
    "        _df = pd.read_csv(filename)\n",
    "        \n",
    "        self.x_var: str = x_variable_name\n",
    "        self.y_var: str = y_variable_name\n",
    " \n",
    "        self.x = np.array(_df[self.x_var])\n",
    "        self.y = np.array(_df[self.y_var])\n",
    "\n",
    "    def remove_obs(self, index):\n",
    "        self.x = np.delete(self.x,index)\n",
    "        self.y = np.delete(self.y,index)\n",
    "\n",
    "    def n_elems(self):\n",
    "        return self.x.size"
   ]
  },
  {
   "cell_type": "code",
   "execution_count": 51,
   "id": "b8cdee58ad174f05",
   "metadata": {
    "ExecuteTime": {
     "end_time": "2023-08-31T05:08:53.272751514Z",
     "start_time": "2023-08-31T05:08:53.012254786Z"
    },
    "collapsed": false
   },
   "outputs": [],
   "source": [
    "class LinearModel:\n",
    "    dataset = None\n",
    "    beta = None\n",
    "\n",
    "    def _eval_point_with_params(self, x):\n",
    "        return self.beta * x\n",
    "\n",
    "    def _calculate_beta(self) -> float:\n",
    "        numerator = np.sum(self.dataset.x * self.dataset.y)\n",
    "        denominator = np.sum(np.power(self.dataset.x, 2))\n",
    "\n",
    "        return numerator / denominator\n",
    "\n",
    "    def __init__(self, _dataset):\n",
    "        self.dataset = _dataset\n",
    "        self.beta = self._calculate_beta()\n",
    "\n",
    "    def predict(self, x):\n",
    "        return self._eval_point_with_params(x)\n",
    "\n",
    "    def get_beta(self):\n",
    "        return self.beta\n",
    "\n",
    "    def plot(self):\n",
    "        y_hat = self.predict(self.dataset.x)\n",
    "\n",
    "        plt.grid()\n",
    "        plt.plot(self.dataset.x, self.dataset.y, '.')\n",
    "        plt.plot(self.dataset.x, y_hat)\n",
    "        plt.show()"
   ]
  },
  {
   "cell_type": "code",
   "execution_count": 52,
   "id": "dbfb65bb8f375a8f",
   "metadata": {
    "ExecuteTime": {
     "end_time": "2023-08-31T05:08:53.299863805Z",
     "start_time": "2023-08-31T05:08:53.071850178Z"
    },
    "collapsed": false
   },
   "outputs": [],
   "source": [
    "class BiasLinearModel:\n",
    "    dataset = None\n",
    "    beta = None\n",
    "    bias = None\n",
    "\n",
    "    def _eval_point_with_params(self, x):\n",
    "        return self.beta * x + self.bias\n",
    "\n",
    "    def _calculate_beta(self) -> float:\n",
    "        x_mean = np.mean(self.dataset.x)\n",
    "        y_mean = np.mean(self.dataset.y)\n",
    "\n",
    "        numerator = np.sum((self.dataset.x * self.dataset.y) - (y_mean * self.dataset.x))\n",
    "        denominator = np.sum(np.power(self.dataset.x, 2) - x_mean * self.dataset.x)\n",
    "\n",
    "        return numerator / denominator\n",
    "\n",
    "    def _calculate_bias(self) -> float:\n",
    "        x_mean = np.mean(self.dataset.x)\n",
    "        y_mean = np.mean(self.dataset.y)\n",
    "\n",
    "        return y_mean - self.get_beta() * x_mean\n",
    "\n",
    "    def __init__(self, _dataset):\n",
    "        self.dataset = _dataset\n",
    "        self.beta = self._calculate_beta()\n",
    "        self.bias = self._calculate_bias()\n",
    "\n",
    "    def predict(self, x):\n",
    "        return self._eval_point_with_params(x)\n",
    "\n",
    "    def get_beta(self):\n",
    "        return self.beta\n",
    "\n",
    "    def get_bias(self):\n",
    "        return self.bias\n",
    "\n",
    "    def plot(self):\n",
    "        y_hat = self.predict(self.dataset.x)\n",
    "\n",
    "        plt.grid()\n",
    "        plt.plot(self.dataset.x, self.dataset.y, '.')\n",
    "        plt.plot(self.dataset.x, y_hat)\n",
    "        plt.show()"
   ]
  },
  {
   "cell_type": "code",
   "execution_count": 53,
   "id": "971f2ecc27f62063",
   "metadata": {
    "ExecuteTime": {
     "end_time": "2023-08-31T05:08:53.328301622Z",
     "start_time": "2023-08-31T05:08:53.115511255Z"
    },
    "collapsed": false
   },
   "outputs": [],
   "source": [
    "class StatisticalMeasures:\n",
    "\n",
    "    @staticmethod\n",
    "    def mse(model: LinearModel | BiasLinearModel):\n",
    "        y_hat = model.predict(model.dataset.x)\n",
    "        \n",
    "        terms = np.power(y_hat - model.dataset.y, 2)\n",
    "        accm = np.sum(terms) / dataset.n_elems()\n",
    "        return accm\n",
    "\n",
    "    @staticmethod\n",
    "    def r_squeared(model: LinearModel | BiasLinearModel):\n",
    "        y_mean = np.mean(model.dataset.y)\n",
    "        y_hat = model.predict(model.dataset.x)\n",
    "\n",
    "        numerator = np.sum(np.power(model.dataset.y - y_hat, 2))\n",
    "        denominator = np.sum(np.power(model.dataset.y - y_mean, 2))\n",
    "        return 1 - numerator / denominator"
   ]
  },
  {
   "cell_type": "code",
   "execution_count": 54,
   "id": "1526a668aec2271e",
   "metadata": {
    "ExecuteTime": {
     "end_time": "2023-08-31T05:08:53.330105801Z",
     "start_time": "2023-08-31T05:08:53.116115277Z"
    },
    "collapsed": false
   },
   "outputs": [],
   "source": [
    "dataset = DataSet(\"./dataset/spotify_sample.csv\", \"streams(hundreds of thousands)\", \"in_spotify_playlists\")"
   ]
  },
  {
   "cell_type": "markdown",
   "id": "77bebc968f008b34",
   "metadata": {
    "collapsed": false
   },
   "source": [
    "8. Grafica los datos superponiendo la linea en los datos que pasa por el origen. Cual es el MSE?"
   ]
  },
  {
   "cell_type": "markdown",
   "id": "a15233aa",
   "metadata": {},
   "source": []
  },
  {
   "cell_type": "code",
   "execution_count": 55,
   "id": "25fa609d0c038ef0",
   "metadata": {
    "ExecuteTime": {
     "end_time": "2023-08-31T05:08:53.470328780Z",
     "start_time": "2023-08-31T05:08:53.156024781Z"
    },
    "collapsed": false
   },
   "outputs": [
    {
     "data": {
      "image/png": "[encoded data removed]",
      "text/plain": [
       "<Figure size 640x480 with 1 Axes>"
      ]
     },
     "metadata": {},
     "output_type": "display_data"
    },
    {
     "name": "stdout",
     "output_type": "stream",
     "text": [
      "betha: 0.7370945213834329\n",
      "mse: 2280789.90594258 playlists^2\n"
     ]
    }
   ],
   "source": [
    "linear_model = LinearModel(dataset)\n",
    "linear_model.plot()\n",
    "print(f\"betha: {linear_model.get_beta()}\")\n",
    "print(f\"mse: {StatisticalMeasures.mse(linear_model)} playlists^2\")"
   ]
  },
  {
   "cell_type": "markdown",
   "id": "f89e5bf6d4b3ef09",
   "metadata": {
    "collapsed": false
   },
   "source": [
    "9. Grafica los datos superponiendo la linea en los datos que no pasa por el origen. Cual es el MSE?"
   ]
  },
  {
   "cell_type": "code",
   "execution_count": 56,
   "id": "18de81b71953220e",
   "metadata": {
    "ExecuteTime": {
     "end_time": "2023-08-31T05:08:53.681287225Z",
     "start_time": "2023-08-31T05:08:53.455040125Z"
    },
    "collapsed": false
   },
   "outputs": [
    {
     "data": {
      "image/png": "[encoded data removed]",
      "text/plain": [
       "<Figure size 640x480 with 1 Axes>"
      ]
     },
     "metadata": {},
     "output_type": "display_data"
    },
    {
     "name": "stdout",
     "output_type": "stream",
     "text": [
      "beta: 0.7141004053993129\n",
      "bias: 156.61455673680575\n",
      "mse: 0.721641373403032\n"
     ]
    }
   ],
   "source": [
    "bias_linear_model = BiasLinearModel(dataset)\n",
    "bias_linear_model.plot()\n",
    "\n",
    "print(f\"beta: {bias_linear_model.get_beta()}\")\n",
    "print(f\"bias: {bias_linear_model.get_bias()}\")\n",
    "print(f\"mse: {StatisticalMeasures.r_squeared(bias_linear_model)}\")"
   ]
  },
  {
   "cell_type": "markdown",
   "id": "b1eeca90350eaaa6",
   "metadata": {
    "collapsed": false
   },
   "source": [
    "A continuacion se encuentra el Bootstrapping, para el modelo lineal con y sin bias en ese orden. (La variable betaNoBias es el valor promedio del parametro de los modelos que pasan por cero. Las variables betaBias y biasBias son los valores promedio de los parametros beta y bias de los modelos que consideran un bias)"
   ]
  },
  {
   "cell_type": "code",
   "execution_count": 57,
   "id": "1626da124d42057b",
   "metadata": {
    "ExecuteTime": {
     "end_time": "2023-08-31T05:08:53.758488359Z",
     "start_time": "2023-08-31T05:08:53.652395148Z"
    },
    "collapsed": false
   },
   "outputs": [
    {
     "data": {
      "text/plain": [
       "(0.7368973293059682, (0.7139741003773192, 157.36196988749182))"
      ]
     },
     "execution_count": 57,
     "metadata": {},
     "output_type": "execute_result"
    }
   ],
   "source": [
    "# Bootstrapping\n",
    "\n",
    "# Linear no bias\n",
    "ITERS = 100\n",
    "\n",
    "betaNoBias = 0\n",
    "for i in range(0,ITERS):\n",
    "    dataset_ = copy.deepcopy(dataset) #avoid modifying all the datasets\n",
    "    dataset_.remove_obs(random.randint(0,dataset_.n_elems() - 1))\n",
    "    fit = LinearModel(dataset_)\n",
    "    betaNoBias += fit.get_beta()/ITERS #calculate mean distributing the division\n",
    "\n",
    "\n",
    "betaBias = 0\n",
    "biasBias = 0\n",
    "for i in range(0,ITERS):\n",
    "    dataset_ = copy.deepcopy(dataset) #avoid modifying all the datasets\n",
    "    dataset_.remove_obs(random.randint(0,dataset_.n_elems() - 1))\n",
    "    fit = BiasLinearModel(dataset_)\n",
    "    betaBias += fit.get_beta()/ITERS\n",
    "    biasBias += fit.get_bias()/ITERS\n",
    "\n",
    "betaNoBias, (betaBias, biasBias)"
   ]
  },
  {
   "cell_type": "markdown",
   "id": "ad149b3298bca8ee",
   "metadata": {
    "collapsed": false
   },
   "source": [
    "Para una ejecucion del codigo anterior, los valores promedio de los modelos fueron los siguientes:\n",
    "\n",
    "   - Modelo sin bias: Beta = 0.7370598347655866\n",
    "   - Modelo con bias: Beta = 0.7138273720487012, bias = 157.41307767546965.\n",
    "\n",
    "Note que son valores muy semejantes a los obtenidos sin bootstrapping, por lo que interpretamos que nuestro ajuste no es demasiado sensible a los outliers."
   ]
  },
  {
   "cell_type": "markdown",
   "id": "bdd1ee49",
   "metadata": {},
   "source": [
    "# Contribuciones:\n",
    "\n",
    "- Juan Diego Castro: Encontro dataset, mayor parte del codigo de las clases de los modelos. Redaccion de findings en mayoria de preguntas.\n",
    "- Kevin Huaman: Variables que se pueden relacionar mejor.\n",
    "- Juan Diego Prochazka: Parte del codigo de las clases de los modelos, Bootstrapping.\n",
    "  \n",
    "# Paquetes\n",
    "\n",
    "- Matplotlib\n",
    "- Pandas\n",
    "- Numpy\n",
    "\n",
    "# Lista de Herramientas\n",
    "\n",
    "- Dataset y licencia: https://www.kaggle.com/datasets/nelgiriyewithana/top-spotify-songs-2023\n",
    "\n",
    "# Material utilizado como referencia\n",
    "\n",
    "- https://vitalflux.com/mean-square-error-r-squared-which-one-to-use/amp/\n",
    "- https://towardsai.net/p/machine-learning/linear-regression-complete-derivation-with-mathematics-explained?amp=1\n",
    "- https://medium.com/codex/the-derivation-of-the-linear-regression-coefficient-c801771a9322\n",
    "- https://www.geeksforgeeks.org/linear-regression-python-implementation/\n",
    "\n",
    "# Otros\n",
    "\n",
    "No se utilizaron herramientas de IA, todo el codigo se encuentra arriba."
   ]
  },
  {
   "cell_type": "markdown",
   "id": "efc16ddc",
   "metadata": {},
   "source": []
  },
  {
   "cell_type": "markdown",
   "id": "4b739e18",
   "metadata": {},
   "source": []
  }
 ],
 "metadata": {
  "kernelspec": {
   "display_name": "Python 3",
   "language": "python",
   "name": "python3"
  },
  "language_info": {
   "codemirror_mode": {
    "name": "ipython",
    "version": 2
   },
   "file_extension": ".py",
   "mimetype": "text/x-python",
   "name": "python",
   "nbconvert_exporter": "python",
   "pygments_lexer": "ipython2",
   "version": "2.7.6"
  }
 },
 "nbformat": 4,
 "nbformat_minor": 5
}
